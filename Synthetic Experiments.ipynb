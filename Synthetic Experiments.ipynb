{
 "cells": [
  {
   "cell_type": "markdown",
   "metadata": {},
   "source": [
    "#### International Conference on Machine Learning (ICML), 2020.\n",
    "\n",
    "## Frequentist Uncertainty in Recurrent Neural Networks via Blockwise Influence Functions\n",
    "\n",
    "*Ahmed M. Alaa and Mihaela van der Schaar*"
   ]
  },
  {
   "cell_type": "markdown",
   "metadata": {},
   "source": [
    "### Experiments on synthetic data (Section 5.1)"
   ]
  },
  {
   "cell_type": "markdown",
   "metadata": {},
   "source": [
    "Import necessary libraries and initialize model parameters"
   ]
  },
  {
   "cell_type": "code",
   "execution_count": 1,
   "metadata": {
    "collapsed": true
   },
   "outputs": [],
   "source": [
    "import numpy as np\n",
    "from matplotlib import pyplot as plt\n",
    "%matplotlib inline \n",
    "import pickle\n",
    "\n",
    "from models.sequential import *\n",
    "from utils.make_data import *    \n",
    "from utils.performance import *   \n",
    "\n",
    "seq_len      = 10\n",
    "n_samples    = 1000\n",
    "INPUT_SIZE   = 1 \n",
    "EPOCH        = 10\n",
    "N_STEPS      = 500\n",
    "BATCH_SIZE   = 100 \n",
    "MAX_STEPS    = seq_len \n",
    "mode         = \"RNN\"\n",
    "coverage     = 0.9\n",
    "n_test       = 5000\n",
    "\n",
    "params       = dict({\"INPUT_SIZE\":INPUT_SIZE, \n",
    "                     \"EPOCH\":EPOCH, \n",
    "                     \"N_STEPS\":N_STEPS, \n",
    "                     \"BATCH_SIZE\":BATCH_SIZE, \n",
    "                     \"MAX_STEPS\":MAX_STEPS, \n",
    "                     \"mode\":mode})"
   ]
  },
  {
   "cell_type": "markdown",
   "metadata": {},
   "source": [
    "Function to train an RNN model and compute uncertainty intervals"
   ]
  },
  {
   "cell_type": "code",
   "execution_count": 2,
   "metadata": {
    "collapsed": true
   },
   "outputs": [],
   "source": [
    "def train_BJ_RNN(n_samples, noise_profile, seq_len, params):\n",
    "    \n",
    "    X, Y            = create_autoregressive_data(n_samples=n_samples, noise_profile=noise_profile,\n",
    "                                                 seq_len=seq_len, mode=\"time-dependent\")\n",
    "    RNN_model       = RNN(**params)\n",
    "    \n",
    "    RNN_model.fit(X, Y)\n",
    "    \n",
    "    RNN_model_      = RNN_uncertainty_wrapper(RNN_model)\n",
    "    \n",
    "    return RNN_model_"
   ]
  },
  {
   "cell_type": "markdown",
   "metadata": {},
   "source": [
    "Function to evaluate confidence intervals under different experimental setups:"
   ]
  },
  {
   "cell_type": "code",
   "execution_count": 6,
   "metadata": {
    "collapsed": false
   },
   "outputs": [],
   "source": [
    "def run_synthetic_experiments(exp_mode, params, coverage, seq_len,\n",
    "                              n_train_seq, n_test_seq, retrain=False):\n",
    "    \n",
    "    baselines           = [\"BJRNN\", \"QRNN\", \"DPRNN\"]\n",
    "    exp_res_dict        = dict({\"BJRNN\": [], \"QRNN\": [], \"DPRNN\": []})\n",
    "    baseline_results    = dict({\"BJRNN\": dict({\"CI_length\": None, \"Errors\": None,  \"Coverages\": None, }), \n",
    "                                \"QRNN\": dict({\"CI_length\": None, \"Errors\": None,  \"Coverages\": None, }), \n",
    "                                \"DPRNN\": dict({\"CI_length\": None, \"Errors\": None,  \"Coverages\": None, })})\n",
    "    \n",
    "    if exp_mode==\"2\":\n",
    "        \n",
    "        n_samples_          = [10, 100, 1000]\n",
    "        noise_var_          = 0.2\n",
    "        \n",
    "        if retrain:\n",
    "    \n",
    "            for n_sample_ in n_samples_:\n",
    "\n",
    "                exp_results     = collect_synthetic_results(noise_var_, params, coverage=coverage, seq_len=seq_len,\n",
    "                                                            n_train_seq=n_train_seq, n_test_seq=n_test_seq)\n",
    "\n",
    "                exp_res_dict[\"BJRNN\"].append(exp_results[\"BJRNN\"])\n",
    "                exp_res_dict[\"QRNN\"].append(exp_results[\"QRNN\"])\n",
    "                exp_res_dict[\"DPRNN\"].append(exp_results[\"DPRNN\"])\n",
    "        else:\n",
    "            \n",
    "            infile              = open('saved_models/Experiment_2_result','rb')\n",
    "            exp_res_dict        = pickle.load(infile)\n",
    "            \n",
    "    elif exp_mode==\"1\":\n",
    "            \n",
    "        noise_vars          = [0.1 * k for k in range(9)]    \n",
    "        \n",
    "        if retrain:\n",
    "            \n",
    "            for noise_var in noise_vars:\n",
    "\n",
    "                exp_results   = collect_synthetic_results(noise_var, params, coverage=coverage, seq_len=seq_len,\n",
    "                                                          n_train_seq=n_samples, n_test_seq=n_test)\n",
    "\n",
    "                exp_res_dict[\"BJRNN\"].append(exp_results[\"BJRNN\"])\n",
    "                exp_res_dict[\"QRNN\"].append(exp_results[\"QRNN\"])\n",
    "                exp_res_dict[\"DPRNN\"].append(exp_results[\"DPRNN\"])\n",
    "        \n",
    "        else:\n",
    "            \n",
    "            infile              = open('saved_models/Experiment_1_result','rb')\n",
    "            exp_res_dict        = pickle.load(infile)\n",
    "        \n",
    "        \n",
    "    for baseline in baselines:\n",
    "        \n",
    "        baseline_results[baseline][\"CI_length\"] = [exp_res_dict[baseline][k][0][\"CI length\"] for k in range(len(exp_res_dict[baseline]))]\n",
    "        baseline_results[baseline][\"Errors\"]    = [np.mean(np.concatenate(exp_res_dict[baseline][k][0][\"Errors\"])) for k in range(len(exp_res_dict[baseline]))]\n",
    "        baseline_results[baseline][\"Coverages\"] = BJRNN_coverages = [exp_res_dict[baseline][k][0][\"Coverage\"] for k in range(len(exp_res_dict[baseline]))]\n",
    "    \n",
    "    return baseline_results"
   ]
  },
  {
   "cell_type": "code",
   "execution_count": null,
   "metadata": {
    "collapsed": true
   },
   "outputs": [],
   "source": [
    "baseline_results = run_synthetic_experiments(exp_mode=\"1\", params=params, coverage=coverage, seq_len=seq_len,\n",
    "                                             n_train_seq=n_samples, n_test_seq=n_test, retrain=True)"
   ]
  },
  {
   "cell_type": "code",
   "execution_count": null,
   "metadata": {
    "collapsed": true
   },
   "outputs": [],
   "source": [
    "plt.figure(figsize=(6, 5), edgecolor=\"black\")\n",
    "\n",
    "plt.plot([1, 2, 3], baseline_results[\"BJRNN\"][\"CI_length\"], linewidth=3, \n",
    "         linestyle=\"--\", marker=\".\", color=\"b\", label=\"BJ-RNN\") \n",
    "\n",
    "plt.plot([1, 2, 3], baseline_results[\"QRNN\"][\"CI_length\"], linewidth=3, marker=\".\",\n",
    "         color=\"r\", label=\"MQ-RNN\")\n",
    "\n",
    "plt.plot([1, 2, 3], baseline_results[\"DPRNN\"][\"CI_length\"], linewidth=3, marker=\".\",\n",
    "         color=\"g\", label=\"DP-RNN\")\n",
    "\n",
    "plt.xlabel(r\"Noise Level $\\sigma$\", labelpad=11, fontsize=16, fontweight=\"bold\")\n",
    "plt.ylabel(\"Length of Confidence Intervals\", labelpad=11, fontsize=16, fontweight=\"bold\")\n",
    "\n",
    "plt.legend(loc=\"upper left\", fontsize=14, ncol=1)\n",
    "\n",
    "plt.tick_params(labelsize=14)\n",
    "plt.rc('axes', edgecolor='dimgrey')\n",
    "\n",
    "plt.tight_layout()\n",
    "plt.savefig(\"figures/BJRNN_synth_Fig1.png\", dpi=5000)"
   ]
  },
  {
   "cell_type": "code",
   "execution_count": null,
   "metadata": {
    "collapsed": true
   },
   "outputs": [],
   "source": [
    "plt.figure(figsize=(6, 5), edgecolor=\"black\")\n",
    "\n",
    "plt.plot([1, 2, 3], baseline_results[\"BJRNN\"][\"Coverages\"], linewidth=3, \n",
    "         linestyle=\"--\", marker=\".\", color=\"b\", label=\"BJ-RNN\") \n",
    "\n",
    "plt.plot([1, 2, 3], baseline_results[\"QRNN\"][\"Coverages\"], linewidth=3, marker=\".\",\n",
    "         color=\"r\", label=\"MQ-RNN\")\n",
    "\n",
    "plt.plot([1, 2, 3], baseline_results[\"DPRNN\"][\"Coverages\"], linewidth=3, marker=\".\",\n",
    "         color=\"g\", label=\"DP-RNN\")\n",
    "\n",
    "plt.xlabel(r\"Noise Level $\\sigma$\", labelpad=11, fontsize=16, fontweight=\"bold\")\n",
    "plt.ylabel(\"Achieved coverage\", labelpad=11, fontsize=16, fontweight=\"bold\")\n",
    "\n",
    "plt.legend(loc=\"upper left\", fontsize=14, ncol=1)\n",
    "\n",
    "plt.tick_params(labelsize=14)\n",
    "plt.rc('axes', edgecolor='dimgrey')\n",
    "\n",
    "plt.tight_layout()\n",
    "plt.savefig(\"figures/BJRNN_synth_Fig2.png\", dpi=5000)"
   ]
  },
  {
   "cell_type": "code",
   "execution_count": 4,
   "metadata": {
    "collapsed": true
   },
   "outputs": [],
   "source": [
    "baseline_results = run_synthetic_experiments(exp_mode=\"2\", params=params, coverage=coverage, seq_len=seq_len,\n",
    "                                             n_train_seq=n_samples, n_test_seq=n_test, retrain=False)"
   ]
  },
  {
   "cell_type": "code",
   "execution_count": 5,
   "metadata": {
    "collapsed": false
   },
   "outputs": [
    {
     "data": {
      "image/png": "[encoded data removed]",
      "text/plain": [
       "<Figure size 432x360 with 1 Axes>"
      ]
     },
     "metadata": {
      "needs_background": "light"
     },
     "output_type": "display_data"
    }
   ],
   "source": [
    "plt.figure(figsize=(6, 5), edgecolor=\"black\")\n",
    "\n",
    "plt.plot([1, 2, 3], baseline_results[\"BJRNN\"][\"Coverages\"], linewidth=3, \n",
    "         linestyle=\"--\", marker=\".\", color=\"b\", label=\"BJ-RNN\") \n",
    "\n",
    "plt.plot([1, 2, 3], baseline_results[\"QRNN\"][\"Coverages\"], linewidth=3, marker=\".\",\n",
    "         color=\"r\", label=\"MQ-RNN\")\n",
    "\n",
    "plt.plot([1, 2, 3], baseline_results[\"DPRNN\"][\"Coverages\"], linewidth=3, marker=\".\",\n",
    "         color=\"g\", label=\"DP-RNN\")\n",
    "\n",
    "\n",
    "plt.axhline(y=.9, linestyle=\"--\", linewidth=2.5, color=\"black\")\n",
    "\n",
    "plt.xlabel(r\"Log(Number of Training Sequences)\", labelpad=11, fontsize=16, fontweight=\"bold\")\n",
    "plt.ylabel(\"Achieved coverage\", labelpad=11, fontsize=16, fontweight=\"bold\")\n",
    "\n",
    "plt.legend(loc=\"lower right\", fontsize=14, ncol=1)\n",
    "\n",
    "plt.tick_params(labelsize=14)\n",
    "plt.rc('axes', edgecolor='dimgrey')\n",
    "\n",
    "plt.tight_layout()\n",
    "plt.savefig(\"figures/BJRNN_synth_Fig3.png\", dpi=5000)"
   ]
  }
 ],
 "metadata": {
  "kernelspec": {
   "display_name": "tensorflow",
   "language": "python",
   "name": "tensorflow"
  },
  "language_info": {
   "codemirror_mode": {
    "name": "ipython",
    "version": 3
   },
   "file_extension": ".py",
   "mimetype": "text/x-python",
   "name": "python",
   "nbconvert_exporter": "python",
   "pygments_lexer": "ipython3",
   "version": "3.6.1"
  }
 },
 "nbformat": 4,
 "nbformat_minor": 2
}
